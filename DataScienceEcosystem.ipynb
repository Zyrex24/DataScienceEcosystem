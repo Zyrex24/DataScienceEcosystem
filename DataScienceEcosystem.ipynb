{
 "cells": [
  {
   "cell_type": "markdown",
   "id": "871c1721-4bc8-478b-b72b-ef54051e00fd",
   "metadata": {},
   "source": [
    "# Data Science Tools and Ecosystem"
   ]
  },
  {
   "cell_type": "markdown",
   "id": "ec95acc5-c53e-44f8-b78d-25c41845db75",
   "metadata": {},
   "source": [
    "In this notebook, Data Science Tools and Ecosystem are summarized."
   ]
  },
  {
   "cell_type": "markdown",
   "id": "0385868d-2db8-42da-af79-76d5f6f110aa",
   "metadata": {},
   "source": [
    "**Objectives:**\n",
    "\n",
    "- List popular languages for Data Science.\n",
    "- List commonly used libraries in Data Science.\n",
    "- Create a table of Data Science tools.\n",
    "- Provide examples of evaluating arithmetic expressions.\n",
    "- Perform conversions between different units (e.g., minutes to hours).\n"
   ]
  },
  {
   "cell_type": "markdown",
   "id": "66f64235-34e0-4f18-b9d7-846dfba4e3ac",
   "metadata": {},
   "source": [
    "#### Some of the popular languages that Data Scientists use are:\n",
    "1. Python\n",
    "2. R\n",
    "3. Julia\n",
    "4. SQL\n",
    "5. Java\n"
   ]
  },
  {
   "cell_type": "markdown",
   "id": "b69441e3-e245-4b53-8e43-3ac5a2352897",
   "metadata": {},
   "source": [
    "#### Some of the commonly used libraries used by Data Scientists include:\n",
    "1. NumPy\n",
    "2. Pandas\n",
    "3. Matplotlib\n",
    "4. Scikit-learn\n",
    "5. TensorFlow\n",
    "6. PyTorch\n"
   ]
  },
  {
   "cell_type": "markdown",
   "id": "6a3ba971-ec12-4d06-a11c-1f6332ac41e7",
   "metadata": {},
   "source": [
    "| Data Science Tools              |\n",
    "|---------------------------------|\n",
    "| Jupyter Notebook                |\n",
    "| RStudio                         |\n",
    "| IBM Watson Studio               |\n"
   ]
  },
  {
   "cell_type": "markdown",
   "id": "6d9237ac-6348-4bf3-8d1d-003c203bca14",
   "metadata": {},
   "source": [
    "### Below are a few examples of evaluating arithmetic expressions in Python.\n"
   ]
  },
  {
   "cell_type": "code",
   "execution_count": 15,
   "id": "09cc09ab-2167-4b75-a280-7dd2d918a447",
   "metadata": {},
   "outputs": [
    {
     "name": "stdout",
     "output_type": "stream",
     "text": [
      "17\n"
     ]
    }
   ],
   "source": [
    "# This is a simple arithmetic expression to multiply then add integers.\n",
    "result = (3 * 4) + 5 # 17\n",
    "print(result)\n"
   ]
  },
  {
   "cell_type": "code",
   "execution_count": 17,
   "id": "55b8b70d-bc0d-4771-98a8-9f2daea7eb72",
   "metadata": {},
   "outputs": [
    {
     "name": "stdout",
     "output_type": "stream",
     "text": [
      "3.3333333333333335\n"
     ]
    }
   ],
   "source": [
    "# This will convert 200 minutes to hours by dividing by 60. \n",
    "minutes = 200 \n",
    "hours = minutes / 60 #3.33\n",
    "print(hours)"
   ]
  },
  {
   "cell_type": "markdown",
   "id": "5e407d73-4441-4599-bf4f-5d5c18dffa72",
   "metadata": {},
   "source": [
    "## Author\n",
    "\n",
    "Ahmed Niazi\n"
   ]
  },
  {
   "cell_type": "code",
   "execution_count": null,
   "id": "c211cf3e-3f13-4501-b4cb-0b0487cdd323",
   "metadata": {},
   "outputs": [],
   "source": []
  }
 ],
 "metadata": {
  "kernelspec": {
   "display_name": "Python 3 (ipykernel)",
   "language": "python",
   "name": "python3"
  },
  "language_info": {
   "codemirror_mode": {
    "name": "ipython",
    "version": 3
   },
   "file_extension": ".py",
   "mimetype": "text/x-python",
   "name": "python",
   "nbconvert_exporter": "python",
   "pygments_lexer": "ipython3",
   "version": "3.12.7"
  }
 },
 "nbformat": 4,
 "nbformat_minor": 5
}
